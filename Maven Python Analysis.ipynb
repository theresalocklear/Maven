{
 "cells": [
  {
   "cell_type": "markdown",
   "metadata": {},
   "source": [
    "\n",
    "# Maven Data Modeling Exercise\n",
    "###### Theresa Locklear, September 2019\n",
    "Hello and thank you for the opportunity to review the sample Maven dataset. \n",
    "\n",
    "For this exercise, three files were provided `users.csv`, `events.csv` and `events-2017.csv`. The `booking` event was described as the conversion event Maven analysts are looking to better understand. I will load each of the datasets in to observe their attributes\n",
    "\n",
    "## users.csv \n",
    "\n",
    "Each row is this dataset represents a user from a sample dataset. Let's get a quick count of size...\n"
   ]
  },
  {
   "cell_type": "code",
   "execution_count": 9,
   "metadata": {
    "scrolled": true
   },
   "outputs": [
    {
     "name": "stdout",
     "output_type": "stream",
     "text": [
      "(Rows, Columns)\n"
     ]
    },
    {
     "data": {
      "text/plain": [
       "(200000, 6)"
      ]
     },
     "execution_count": 9,
     "metadata": {},
     "output_type": "execute_result"
    }
   ],
   "source": [
    "import pandas as pd\n",
    "data_users = pd.read_csv('users.csv')\n",
    "df_users = pd.DataFrame(data_users) \n",
    "print (\"(Rows, Columns)\")\n",
    "df_users.shape\n"
   ]
  },
  {
   "cell_type": "markdown",
   "metadata": {},
   "source": [
    "Let's take a look at the data. First to load some libraries that I might need"
   ]
  },
  {
   "cell_type": "code",
   "execution_count": 6,
   "metadata": {},
   "outputs": [
    {
     "data": {
      "text/html": [
       "<div>\n",
       "<style scoped>\n",
       "    .dataframe tbody tr th:only-of-type {\n",
       "        vertical-align: middle;\n",
       "    }\n",
       "\n",
       "    .dataframe tbody tr th {\n",
       "        vertical-align: top;\n",
       "    }\n",
       "\n",
       "    .dataframe thead th {\n",
       "        text-align: right;\n",
       "    }\n",
       "</style>\n",
       "<table border=\"1\" class=\"dataframe\">\n",
       "  <thead>\n",
       "    <tr style=\"text-align: right;\">\n",
       "      <th></th>\n",
       "      <th>first_name</th>\n",
       "      <th>last_name</th>\n",
       "      <th>user_id</th>\n",
       "    </tr>\n",
       "  </thead>\n",
       "  <tbody>\n",
       "    <tr>\n",
       "      <th>count</th>\n",
       "      <td>200000.0</td>\n",
       "      <td>200000.0</td>\n",
       "      <td>2.000000e+05</td>\n",
       "    </tr>\n",
       "    <tr>\n",
       "      <th>mean</th>\n",
       "      <td>1.0</td>\n",
       "      <td>2.0</td>\n",
       "      <td>5.004855e+10</td>\n",
       "    </tr>\n",
       "    <tr>\n",
       "      <th>std</th>\n",
       "      <td>0.0</td>\n",
       "      <td>0.0</td>\n",
       "      <td>2.881756e+10</td>\n",
       "    </tr>\n",
       "    <tr>\n",
       "      <th>min</th>\n",
       "      <td>1.0</td>\n",
       "      <td>2.0</td>\n",
       "      <td>5.774010e+05</td>\n",
       "    </tr>\n",
       "    <tr>\n",
       "      <th>25%</th>\n",
       "      <td>1.0</td>\n",
       "      <td>2.0</td>\n",
       "      <td>2.517460e+10</td>\n",
       "    </tr>\n",
       "    <tr>\n",
       "      <th>50%</th>\n",
       "      <td>1.0</td>\n",
       "      <td>2.0</td>\n",
       "      <td>5.001542e+10</td>\n",
       "    </tr>\n",
       "    <tr>\n",
       "      <th>75%</th>\n",
       "      <td>1.0</td>\n",
       "      <td>2.0</td>\n",
       "      <td>7.501618e+10</td>\n",
       "    </tr>\n",
       "    <tr>\n",
       "      <th>max</th>\n",
       "      <td>1.0</td>\n",
       "      <td>2.0</td>\n",
       "      <td>9.999959e+10</td>\n",
       "    </tr>\n",
       "  </tbody>\n",
       "</table>\n",
       "</div>"
      ],
      "text/plain": [
       "       first_name  last_name       user_id\n",
       "count    200000.0   200000.0  2.000000e+05\n",
       "mean          1.0        2.0  5.004855e+10\n",
       "std           0.0        0.0  2.881756e+10\n",
       "min           1.0        2.0  5.774010e+05\n",
       "25%           1.0        2.0  2.517460e+10\n",
       "50%           1.0        2.0  5.001542e+10\n",
       "75%           1.0        2.0  7.501618e+10\n",
       "max           1.0        2.0  9.999959e+10"
      ]
     },
     "execution_count": 6,
     "metadata": {},
     "output_type": "execute_result"
    }
   ],
   "source": [
    "df_users.describe()"
   ]
  },
  {
   "cell_type": "code",
   "execution_count": 7,
   "metadata": {},
   "outputs": [
    {
     "data": {
      "text/plain": [
       "first_name      False\n",
       "last_name       False\n",
       "emailAddress    False\n",
       "user_id         False\n",
       "joined_at       False\n",
       "country         False\n",
       "dtype: bool"
      ]
     },
     "execution_count": 7,
     "metadata": {},
     "output_type": "execute_result"
    }
   ],
   "source": [
    "#check for nulls\n",
    "df_users.isnull().any()"
   ]
  },
  {
   "cell_type": "markdown",
   "metadata": {},
   "source": [
    "<html><head>\n",
    "\n",
    "\n",
    "<!-- Load require.js. Delete this if your page already loads require.js -->\n",
    "<script src=\"https://cdnjs.cloudflare.com/ajax/libs/require.js/2.3.4/require.min.js\" integrity=\"sha256-Ae2Vz/4ePdIu6ZyI/5ZGsYnb+m0JlOmKPjt6XZ9JJkA=\" crossorigin=\"anonymous\"></script>\n",
    "<script src=\"https://unpkg.com/@jupyter-widgets/html-manager@*/dist/embed-amd.js\" crossorigin=\"anonymous\"></script>\n",
    "<script type=\"application/vnd.jupyter.widget-state+json\">\n",
    "{\n",
    "    \"version_major\": 2,\n",
    "    \"version_minor\": 0,\n",
    "    \"state\": {}\n",
    "}\n",
    "</script>\n",
    "</head>\n",
    "<body>\n",
    "\n",
    "\n",
    "</body>\n",
    "</html>"
   ]
  },
  {
   "cell_type": "code",
   "execution_count": 8,
   "metadata": {},
   "outputs": [
    {
     "data": {
      "text/plain": [
       "first_name       int64\n",
       "last_name        int64\n",
       "emailAddress    object\n",
       "user_id          int64\n",
       "joined_at       object\n",
       "country         object\n",
       "dtype: object"
      ]
     },
     "execution_count": 8,
     "metadata": {},
     "output_type": "execute_result"
    }
   ],
   "source": [
    "#what are the data types of the columns\n",
    "df_users.dtypes"
   ]
  },
  {
   "cell_type": "markdown",
   "metadata": {},
   "source": [
    "let's do the same for the other files\n",
    "## events.csv"
   ]
  },
  {
   "cell_type": "code",
   "execution_count": 10,
   "metadata": {},
   "outputs": [
    {
     "name": "stdout",
     "output_type": "stream",
     "text": [
      "(Rows, Columns)\n"
     ]
    },
    {
     "data": {
      "text/plain": [
       "(160078, 4)"
      ]
     },
     "execution_count": 10,
     "metadata": {},
     "output_type": "execute_result"
    }
   ],
   "source": [
    "data_events = pd.read_csv('events.csv')\n",
    "df_events = pd.DataFrame(data_events) \n",
    "print (\"(Rows, Columns)\")\n",
    "df_events.shape\n"
   ]
  },
  {
   "cell_type": "code",
   "execution_count": 11,
   "metadata": {},
   "outputs": [
    {
     "data": {
      "text/html": [
       "<div>\n",
       "<style scoped>\n",
       "    .dataframe tbody tr th:only-of-type {\n",
       "        vertical-align: middle;\n",
       "    }\n",
       "\n",
       "    .dataframe tbody tr th {\n",
       "        vertical-align: top;\n",
       "    }\n",
       "\n",
       "    .dataframe thead th {\n",
       "        text-align: right;\n",
       "    }\n",
       "</style>\n",
       "<table border=\"1\" class=\"dataframe\">\n",
       "  <thead>\n",
       "    <tr style=\"text-align: right;\">\n",
       "      <th></th>\n",
       "      <th>$id</th>\n",
       "    </tr>\n",
       "  </thead>\n",
       "  <tbody>\n",
       "    <tr>\n",
       "      <th>count</th>\n",
       "      <td>1.600780e+05</td>\n",
       "    </tr>\n",
       "    <tr>\n",
       "      <th>mean</th>\n",
       "      <td>1.289408e+11</td>\n",
       "    </tr>\n",
       "    <tr>\n",
       "      <th>std</th>\n",
       "      <td>3.748654e+08</td>\n",
       "    </tr>\n",
       "    <tr>\n",
       "      <th>min</th>\n",
       "      <td>1.282932e+11</td>\n",
       "    </tr>\n",
       "    <tr>\n",
       "      <th>25%</th>\n",
       "      <td>1.286155e+11</td>\n",
       "    </tr>\n",
       "    <tr>\n",
       "      <th>50%</th>\n",
       "      <td>1.289418e+11</td>\n",
       "    </tr>\n",
       "    <tr>\n",
       "      <th>75%</th>\n",
       "      <td>1.292649e+11</td>\n",
       "    </tr>\n",
       "    <tr>\n",
       "      <th>max</th>\n",
       "      <td>1.295900e+11</td>\n",
       "    </tr>\n",
       "  </tbody>\n",
       "</table>\n",
       "</div>"
      ],
      "text/plain": [
       "                $id\n",
       "count  1.600780e+05\n",
       "mean   1.289408e+11\n",
       "std    3.748654e+08\n",
       "min    1.282932e+11\n",
       "25%    1.286155e+11\n",
       "50%    1.289418e+11\n",
       "75%    1.292649e+11\n",
       "max    1.295900e+11"
      ]
     },
     "execution_count": 11,
     "metadata": {},
     "output_type": "execute_result"
    }
   ],
   "source": [
    "df_events.describe()"
   ]
  },
  {
   "cell_type": "markdown",
   "metadata": {},
   "source": [
    "interesting that there are 4 columns and only 1 is being represented by the describe() function. Maybe the field name starting with a special character is causing an issue. "
   ]
  },
  {
   "cell_type": "code",
   "execution_count": 12,
   "metadata": {},
   "outputs": [
    {
     "data": {
      "text/plain": [
       "$id           False\n",
       "user-email    False\n",
       "when          False\n",
       "blob          False\n",
       "dtype: bool"
      ]
     },
     "execution_count": 12,
     "metadata": {},
     "output_type": "execute_result"
    }
   ],
   "source": [
    "df_events.isnull().any()"
   ]
  },
  {
   "cell_type": "code",
   "execution_count": 13,
   "metadata": {},
   "outputs": [
    {
     "data": {
      "text/plain": [
       "$id            int64\n",
       "user-email    object\n",
       "when          object\n",
       "blob          object\n",
       "dtype: object"
      ]
     },
     "execution_count": 13,
     "metadata": {},
     "output_type": "execute_result"
    }
   ],
   "source": [
    "df_events.dtypes"
   ]
  },
  {
   "cell_type": "markdown",
   "metadata": {},
   "source": [
    "Let's take a look at \n",
    "\n",
    "## events-2017.csv\n"
   ]
  },
  {
   "cell_type": "code",
   "execution_count": 14,
   "metadata": {},
   "outputs": [
    {
     "name": "stdout",
     "output_type": "stream",
     "text": [
      "(Rows, Columns)\n"
     ]
    },
    {
     "data": {
      "text/plain": [
       "(37848, 6)"
      ]
     },
     "execution_count": 14,
     "metadata": {},
     "output_type": "execute_result"
    }
   ],
   "source": [
    "data_events2 = pd.read_csv('events-2017.csv')\n",
    "df_events2 = pd.DataFrame(data_events2) \n",
    "print (\"(Rows, Columns)\")\n",
    "df_events2.shape"
   ]
  },
  {
   "cell_type": "code",
   "execution_count": 19,
   "metadata": {},
   "outputs": [
    {
     "data": {
      "text/html": [
       "<div>\n",
       "<style scoped>\n",
       "    .dataframe tbody tr th:only-of-type {\n",
       "        vertical-align: middle;\n",
       "    }\n",
       "\n",
       "    .dataframe tbody tr th {\n",
       "        vertical-align: top;\n",
       "    }\n",
       "\n",
       "    .dataframe thead th {\n",
       "        text-align: right;\n",
       "    }\n",
       "</style>\n",
       "<table border=\"1\" class=\"dataframe\">\n",
       "  <thead>\n",
       "    <tr style=\"text-align: right;\">\n",
       "      <th></th>\n",
       "      <th>{\"email\": \"1.2.8029@example.com\"</th>\n",
       "      <th>\"EVENT\": \"provider-select\"</th>\n",
       "      <th>\"when\": \"2017-04-08 21:03:06\"</th>\n",
       "      <th>\"HTTP_USER_AGENT\": \"Mozilla/5.0 (iPad; CPU iPad OS 10_3_4 like Mac OS X) AppleWebKit/534.0 (KHTML</th>\n",
       "      <th>like Gecko) CriOS/45.0.857.0 Mobile/26Y768 Safari/534.0\"</th>\n",
       "      <th>\"EVENT_ID\": \"f9359330-44fc-4185-bf7f-ac064a0fd7ae\"}</th>\n",
       "    </tr>\n",
       "  </thead>\n",
       "  <tbody>\n",
       "    <tr>\n",
       "      <th>count</th>\n",
       "      <td>37848</td>\n",
       "      <td>37848</td>\n",
       "      <td>37848</td>\n",
       "      <td>37848</td>\n",
       "      <td>37848</td>\n",
       "      <td>16659</td>\n",
       "    </tr>\n",
       "    <tr>\n",
       "      <th>unique</th>\n",
       "      <td>5448</td>\n",
       "      <td>5</td>\n",
       "      <td>25265</td>\n",
       "      <td>4958</td>\n",
       "      <td>16958</td>\n",
       "      <td>11169</td>\n",
       "    </tr>\n",
       "    <tr>\n",
       "      <th>top</th>\n",
       "      <td>{\"email\": \"1.2.2579@example.com\"</td>\n",
       "      <td>\"EVENT\": \"login\"</td>\n",
       "      <td>\"when\": \"2017-03-17 04:03:09\"</td>\n",
       "      <td>\"HTTP_USER_AGENT\": \"Mozilla/5.0 (compatible; ...</td>\n",
       "      <td>like Gecko) Chrome/42.0.893.0 Safari/532.1\"</td>\n",
       "      <td>\"EVENT_ID\": \"84ecb02a-649a-4de1-9c6a-db5cf024...</td>\n",
       "    </tr>\n",
       "    <tr>\n",
       "      <th>freq</th>\n",
       "      <td>39</td>\n",
       "      <td>12648</td>\n",
       "      <td>5</td>\n",
       "      <td>89</td>\n",
       "      <td>28</td>\n",
       "      <td>4</td>\n",
       "    </tr>\n",
       "  </tbody>\n",
       "</table>\n",
       "</div>"
      ],
      "text/plain": [
       "        {\"email\": \"1.2.8029@example.com\"  \"EVENT\": \"provider-select\"  \\\n",
       "count                              37848                       37848   \n",
       "unique                              5448                           5   \n",
       "top     {\"email\": \"1.2.2579@example.com\"            \"EVENT\": \"login\"   \n",
       "freq                                  39                       12648   \n",
       "\n",
       "         \"when\": \"2017-04-08 21:03:06\"  \\\n",
       "count                            37848   \n",
       "unique                           25265   \n",
       "top      \"when\": \"2017-03-17 04:03:09\"   \n",
       "freq                                 5   \n",
       "\n",
       "        \"HTTP_USER_AGENT\": \"Mozilla/5.0 (iPad; CPU iPad OS 10_3_4 like Mac OS X) AppleWebKit/534.0 (KHTML  \\\n",
       "count                                               37848                                                   \n",
       "unique                                               4958                                                   \n",
       "top      \"HTTP_USER_AGENT\": \"Mozilla/5.0 (compatible; ...                                                   \n",
       "freq                                                   89                                                   \n",
       "\n",
       "        like Gecko) CriOS/45.0.857.0 Mobile/26Y768 Safari/534.0\"  \\\n",
       "count                                               37848          \n",
       "unique                                              16958          \n",
       "top           like Gecko) Chrome/42.0.893.0 Safari/532.1\"          \n",
       "freq                                                   28          \n",
       "\n",
       "        \"EVENT_ID\": \"f9359330-44fc-4185-bf7f-ac064a0fd7ae\"}  \n",
       "count                                               16659    \n",
       "unique                                              11169    \n",
       "top      \"EVENT_ID\": \"84ecb02a-649a-4de1-9c6a-db5cf024...    \n",
       "freq                                                    4    "
      ]
     },
     "execution_count": 19,
     "metadata": {},
     "output_type": "execute_result"
    }
   ],
   "source": [
    "df_events2.describe()"
   ]
  },
  {
   "cell_type": "markdown",
   "metadata": {},
   "source": [
    "Looks like events-2017.csv is JSON. Also looks like some of first events file is also json. \n",
    "In an effort to constrain this project to whether or not a user is booked or not, and which attributes may correlate to that, I will simplify the 2 events files with the following steps:\n",
    "1. align fields from both files to 3 simple field\n",
    " - email (pk)\n",
    " - event\n",
    " - when (time of event)\n",
    "2. align events labels between the 2 files by converting them to the newer terminology\n",
    " - provider-* (over practitioner)\n",
    " - scheduled --> schedule\n",
    "3. remove rows of events from the first events file with labels that don't exist in the newer events file \n",
    " - desktop-view\n",
    " - dashboard\n",
    "4. union the 2 events files \n",
    "5. group users that have had a booking event, and give them a boolean attribute of 1 or 0 if they have or have not had a booking event\n",
    "6. aggregate events for each email address\n",
    "7. create a dataframe consisting of the above mentioned cleansed data\n",
    " - email\n",
    " - booking (1,0)\n",
    " - event1\n",
    " - event2\n",
    " - event3\n",
    " - event4\n",
    "\n",
    "This resulted in a file called unioned_events, which I will now load and observe\n",
    "\n",
    "## unioned_events\n",
    " "
   ]
  },
  {
   "cell_type": "code",
   "execution_count": 20,
   "metadata": {},
   "outputs": [
    {
     "name": "stdout",
     "output_type": "stream",
     "text": [
      "(Rows, Columns)\n"
     ]
    },
    {
     "data": {
      "text/plain": [
       "(9224, 7)"
      ]
     },
     "execution_count": 20,
     "metadata": {},
     "output_type": "execute_result"
    }
   ],
   "source": [
    "data_uevents = pd.read_csv('unioned_events.csv')\n",
    "df_uevents = pd.DataFrame(data_uevents) \n",
    "print (\"(Rows, Columns)\")\n",
    "df_uevents.shape"
   ]
  },
  {
   "cell_type": "code",
   "execution_count": 21,
   "metadata": {},
   "outputs": [
    {
     "data": {
      "text/html": [
       "<div>\n",
       "<style scoped>\n",
       "    .dataframe tbody tr th:only-of-type {\n",
       "        vertical-align: middle;\n",
       "    }\n",
       "\n",
       "    .dataframe tbody tr th {\n",
       "        vertical-align: top;\n",
       "    }\n",
       "\n",
       "    .dataframe thead th {\n",
       "        text-align: right;\n",
       "    }\n",
       "</style>\n",
       "<table border=\"1\" class=\"dataframe\">\n",
       "  <thead>\n",
       "    <tr style=\"text-align: right;\">\n",
       "      <th></th>\n",
       "      <th>Booked</th>\n",
       "      <th>login</th>\n",
       "      <th>provider-booked</th>\n",
       "      <th>provider-schedule</th>\n",
       "      <th>provider-search</th>\n",
       "      <th>provider-select</th>\n",
       "    </tr>\n",
       "  </thead>\n",
       "  <tbody>\n",
       "    <tr>\n",
       "      <th>count</th>\n",
       "      <td>9224.000000</td>\n",
       "      <td>9224.000000</td>\n",
       "      <td>9224.000000</td>\n",
       "      <td>9224.000000</td>\n",
       "      <td>9224.000000</td>\n",
       "      <td>9224.000000</td>\n",
       "    </tr>\n",
       "    <tr>\n",
       "      <th>mean</th>\n",
       "      <td>0.900911</td>\n",
       "      <td>3.615460</td>\n",
       "      <td>2.661969</td>\n",
       "      <td>6.291956</td>\n",
       "      <td>2.816132</td>\n",
       "      <td>3.340416</td>\n",
       "    </tr>\n",
       "    <tr>\n",
       "      <th>std</th>\n",
       "      <td>0.298798</td>\n",
       "      <td>2.663315</td>\n",
       "      <td>2.269160</td>\n",
       "      <td>5.147154</td>\n",
       "      <td>2.583825</td>\n",
       "      <td>2.583299</td>\n",
       "    </tr>\n",
       "    <tr>\n",
       "      <th>min</th>\n",
       "      <td>0.000000</td>\n",
       "      <td>0.000000</td>\n",
       "      <td>0.000000</td>\n",
       "      <td>0.000000</td>\n",
       "      <td>0.000000</td>\n",
       "      <td>0.000000</td>\n",
       "    </tr>\n",
       "    <tr>\n",
       "      <th>25%</th>\n",
       "      <td>1.000000</td>\n",
       "      <td>2.000000</td>\n",
       "      <td>1.000000</td>\n",
       "      <td>3.000000</td>\n",
       "      <td>1.000000</td>\n",
       "      <td>1.000000</td>\n",
       "    </tr>\n",
       "    <tr>\n",
       "      <th>50%</th>\n",
       "      <td>1.000000</td>\n",
       "      <td>3.000000</td>\n",
       "      <td>2.000000</td>\n",
       "      <td>5.000000</td>\n",
       "      <td>2.000000</td>\n",
       "      <td>3.000000</td>\n",
       "    </tr>\n",
       "    <tr>\n",
       "      <th>75%</th>\n",
       "      <td>1.000000</td>\n",
       "      <td>5.000000</td>\n",
       "      <td>4.000000</td>\n",
       "      <td>9.000000</td>\n",
       "      <td>4.000000</td>\n",
       "      <td>5.000000</td>\n",
       "    </tr>\n",
       "    <tr>\n",
       "      <th>max</th>\n",
       "      <td>1.000000</td>\n",
       "      <td>23.000000</td>\n",
       "      <td>20.000000</td>\n",
       "      <td>37.000000</td>\n",
       "      <td>18.000000</td>\n",
       "      <td>19.000000</td>\n",
       "    </tr>\n",
       "  </tbody>\n",
       "</table>\n",
       "</div>"
      ],
      "text/plain": [
       "            Booked        login  provider-booked  provider-schedule  \\\n",
       "count  9224.000000  9224.000000      9224.000000        9224.000000   \n",
       "mean      0.900911     3.615460         2.661969           6.291956   \n",
       "std       0.298798     2.663315         2.269160           5.147154   \n",
       "min       0.000000     0.000000         0.000000           0.000000   \n",
       "25%       1.000000     2.000000         1.000000           3.000000   \n",
       "50%       1.000000     3.000000         2.000000           5.000000   \n",
       "75%       1.000000     5.000000         4.000000           9.000000   \n",
       "max       1.000000    23.000000        20.000000          37.000000   \n",
       "\n",
       "       provider-search  provider-select  \n",
       "count      9224.000000      9224.000000  \n",
       "mean          2.816132         3.340416  \n",
       "std           2.583825         2.583299  \n",
       "min           0.000000         0.000000  \n",
       "25%           1.000000         1.000000  \n",
       "50%           2.000000         3.000000  \n",
       "75%           4.000000         5.000000  \n",
       "max          18.000000        19.000000  "
      ]
     },
     "execution_count": 21,
     "metadata": {},
     "output_type": "execute_result"
    }
   ],
   "source": [
    "df_uevents.describe()"
   ]
  },
  {
   "cell_type": "code",
   "execution_count": 22,
   "metadata": {},
   "outputs": [
    {
     "data": {
      "text/plain": [
       "User-Email           False\n",
       "Booked               False\n",
       "login                False\n",
       "provider-booked      False\n",
       "provider-schedule    False\n",
       "provider-search      False\n",
       "provider-select      False\n",
       "dtype: bool"
      ]
     },
     "execution_count": 22,
     "metadata": {},
     "output_type": "execute_result"
    }
   ],
   "source": [
    "df_uevents.isnull().any()"
   ]
  },
  {
   "cell_type": "code",
   "execution_count": 24,
   "metadata": {},
   "outputs": [
    {
     "data": {
      "text/plain": [
       "User-Email           object\n",
       "Booked                int64\n",
       "login                 int64\n",
       "provider-booked       int64\n",
       "provider-schedule     int64\n",
       "provider-search       int64\n",
       "provider-select       int64\n",
       "dtype: object"
      ]
     },
     "execution_count": 24,
     "metadata": {},
     "output_type": "execute_result"
    }
   ],
   "source": [
    "df_uevents.dtypes"
   ]
  },
  {
   "cell_type": "code",
   "execution_count": 26,
   "metadata": {},
   "outputs": [],
   "source": [
    "# import some libs for analysis\n",
    "import numpy as np            # Data manipulation\n",
    "import matplotlib.pyplot as plt                   # For graphics\n",
    "import seaborn as sns\n",
    "\n",
    "\n",
    "from sklearn.preprocessing import StandardScaler  # For scaling dataset\n",
    "from sklearn.cluster import KMeans, AgglomerativeClustering, AffinityPropagation #For clustering\n",
    "from sklearn.mixture import GaussianMixture #For GMM clustering\n",
    "\n",
    "import os                     # For os related operations\n",
    "import sys                    # For data size"
   ]
  },
  {
   "cell_type": "code",
   "execution_count": 27,
   "metadata": {},
   "outputs": [
    {
     "data": {
      "text/plain": [
       "<matplotlib.axes._subplots.AxesSubplot at 0x12430e278>"
      ]
     },
     "execution_count": 27,
     "metadata": {},
     "output_type": "execute_result"
    },
    {
     "data": {
      "image/png": "[encoded data removed]",
      "text/plain": [
       "<Figure size 432x288 with 2 Axes>"
      ]
     },
     "metadata": {
      "needs_background": "light"
     },
     "output_type": "display_data"
    }
   ],
   "source": [
    "df1 = df_uevents[['Booked', 'login', 'provider-booked', 'provider-schedule', \n",
    "           'provider-search', 'provider-select', \n",
    "          ]] #Subsetting the data\n",
    "cor = df1.corr() #Calculate the correlation of the above variables\n",
    "sns.heatmap(cor, square = False, robust = True) #Plot the correlation as heat map"
   ]
  },
  {
   "cell_type": "markdown",
   "metadata": {},
   "source": [
    "###### Analysis\n",
    "Looks like there's not a clear correlation between any of the attributes in the data file. Next, I will perform a cluster analysis on the subset file"
   ]
  },
  {
   "cell_type": "code",
   "execution_count": 30,
   "metadata": {},
   "outputs": [
    {
     "data": {
      "text/plain": [
       "array([[ 0.33164434,  6.90325182,  7.64114178,  4.60629853,  4.71569374,\n",
       "         5.67505999],\n",
       "       [ 0.33164434,  4.65029851,  5.4375635 ,  5.96634702,  4.32864968,\n",
       "         5.28793712],\n",
       "       [ 0.33164434,  4.65029851,  4.99684785,  4.02342061,  2.39342941,\n",
       "         4.12656854],\n",
       "       ...,\n",
       "       [-3.01527838, -0.60659253, -1.17317131, -1.2224807 , -0.31587897,\n",
       "         0.64246279],\n",
       "       [-3.01527838,  1.64636077, -1.17317131, -0.63960278, -0.31587897,\n",
       "        -0.90602866],\n",
       "       [-3.01527838, -0.98208475, -1.17317131, -0.63960278, -1.08996708,\n",
       "        -0.90602866]])"
      ]
     },
     "execution_count": 30,
     "metadata": {},
     "output_type": "execute_result"
    }
   ],
   "source": [
    "#Scaling the data\n",
    "ss = StandardScaler()\n",
    "ss.fit_transform(df1)"
   ]
  },
  {
   "cell_type": "code",
   "execution_count": 31,
   "metadata": {},
   "outputs": [],
   "source": [
    "#K means clustering \n",
    "def doKmeans(X, nclust=2):\n",
    "    model = KMeans(nclust)\n",
    "    model.fit(X)\n",
    "    clust_labels = model.predict(X)\n",
    "    cent = model.cluster_centers_\n",
    "    return (clust_labels, cent)\n",
    "\n",
    "clust_labels, cent = doKmeans(df1, 2)\n",
    "kmeans = pd.DataFrame(clust_labels)\n",
    "df1.insert((df1.shape[1]),'kmeans',kmeans)"
   ]
  },
  {
   "cell_type": "code",
   "execution_count": 39,
   "metadata": {},
   "outputs": [
    {
     "data": {
      "text/plain": [
       "<matplotlib.colorbar.Colorbar at 0x1a2b7e8f98>"
      ]
     },
     "execution_count": 39,
     "metadata": {},
     "output_type": "execute_result"
    },
    {
     "data": {
      "image/png": "[encoded data removed]",
      "text/plain": [
       "<Figure size 432x288 with 2 Axes>"
      ]
     },
     "metadata": {
      "needs_background": "light"
     },
     "output_type": "display_data"
    }
   ],
   "source": [
    "#Plot the clusters obtained using k means\n",
    "fig = plt.figure()\n",
    "ax = fig.add_subplot(111)\n",
    "scatter = ax.scatter(df1['provider-booked'],df1['login'],\n",
    "                     c=kmeans[0],s=150)\n",
    "ax.set_title('k means clustering')\n",
    "ax.set_xlabel('provider-booked')\n",
    "ax.set_ylabel('login')\n",
    "plt.colorbar(scatter)\n"
   ]
  },
  {
   "cell_type": "markdown",
   "metadata": {},
   "source": [
    "looks like there is clustering of the data. Let's take a look at the predictive power of that cluster... "
   ]
  },
  {
   "cell_type": "code",
   "execution_count": 40,
   "metadata": {},
   "outputs": [
    {
     "data": {
      "text/html": [
       "<div>\n",
       "<style scoped>\n",
       "    .dataframe tbody tr th:only-of-type {\n",
       "        vertical-align: middle;\n",
       "    }\n",
       "\n",
       "    .dataframe tbody tr th {\n",
       "        vertical-align: top;\n",
       "    }\n",
       "\n",
       "    .dataframe thead th {\n",
       "        text-align: right;\n",
       "    }\n",
       "</style>\n",
       "<table border=\"1\" class=\"dataframe\">\n",
       "  <thead>\n",
       "    <tr style=\"text-align: right;\">\n",
       "      <th></th>\n",
       "      <th>Booked</th>\n",
       "      <th>login</th>\n",
       "      <th>provider-booked</th>\n",
       "      <th>provider-schedule</th>\n",
       "      <th>provider-search</th>\n",
       "      <th>provider-select</th>\n",
       "      <th>kmeans</th>\n",
       "    </tr>\n",
       "  </thead>\n",
       "  <tbody>\n",
       "    <tr>\n",
       "      <th>0</th>\n",
       "      <td>1</td>\n",
       "      <td>22</td>\n",
       "      <td>20</td>\n",
       "      <td>30</td>\n",
       "      <td>15</td>\n",
       "      <td>18</td>\n",
       "      <td>1</td>\n",
       "    </tr>\n",
       "    <tr>\n",
       "      <th>1</th>\n",
       "      <td>1</td>\n",
       "      <td>16</td>\n",
       "      <td>15</td>\n",
       "      <td>37</td>\n",
       "      <td>14</td>\n",
       "      <td>17</td>\n",
       "      <td>1</td>\n",
       "    </tr>\n",
       "    <tr>\n",
       "      <th>2</th>\n",
       "      <td>1</td>\n",
       "      <td>16</td>\n",
       "      <td>14</td>\n",
       "      <td>27</td>\n",
       "      <td>9</td>\n",
       "      <td>14</td>\n",
       "      <td>1</td>\n",
       "    </tr>\n",
       "    <tr>\n",
       "      <th>3</th>\n",
       "      <td>1</td>\n",
       "      <td>9</td>\n",
       "      <td>13</td>\n",
       "      <td>21</td>\n",
       "      <td>6</td>\n",
       "      <td>13</td>\n",
       "      <td>1</td>\n",
       "    </tr>\n",
       "    <tr>\n",
       "      <th>4</th>\n",
       "      <td>1</td>\n",
       "      <td>13</td>\n",
       "      <td>13</td>\n",
       "      <td>31</td>\n",
       "      <td>12</td>\n",
       "      <td>13</td>\n",
       "      <td>1</td>\n",
       "    </tr>\n",
       "  </tbody>\n",
       "</table>\n",
       "</div>"
      ],
      "text/plain": [
       "   Booked  login  provider-booked  provider-schedule  provider-search  \\\n",
       "0       1     22               20                 30               15   \n",
       "1       1     16               15                 37               14   \n",
       "2       1     16               14                 27                9   \n",
       "3       1      9               13                 21                6   \n",
       "4       1     13               13                 31               12   \n",
       "\n",
       "   provider-select  kmeans  \n",
       "0               18       1  \n",
       "1               17       1  \n",
       "2               14       1  \n",
       "3               13       1  \n",
       "4               13       1  "
      ]
     },
     "execution_count": 40,
     "metadata": {},
     "output_type": "execute_result"
    }
   ],
   "source": [
    "#train=pd.read_csv('homer_user_detail.csv')\n",
    "train=df1\n",
    "train.head()"
   ]
  },
  {
   "cell_type": "code",
   "execution_count": 45,
   "metadata": {},
   "outputs": [
    {
     "data": {
      "text/plain": [
       "<matplotlib.axes._subplots.AxesSubplot at 0x1a2b9d4518>"
      ]
     },
     "execution_count": 45,
     "metadata": {},
     "output_type": "execute_result"
    },
    {
     "data": {
      "image/png": "[encoded data removed]",
      "text/plain": [
       "<Figure size 432x288 with 1 Axes>"
      ]
     },
     "metadata": {
      "needs_background": "light"
     },
     "output_type": "display_data"
    }
   ],
   "source": [
    "sns.countplot(x='kmeans',data=train)"
   ]
  },
  {
   "cell_type": "code",
   "execution_count": 69,
   "metadata": {},
   "outputs": [],
   "source": [
    "from sklearn.model_selection import train_test_split\n",
    "X_train, X_test, y_train, y_test = train_test_split(train.drop('kmeans',axis=1), \n",
    "                                                    train['kmeans'], test_size=0.20, \n",
    "                                                    random_state=101)"
   ]
  },
  {
   "cell_type": "code",
   "execution_count": 70,
   "metadata": {},
   "outputs": [
    {
     "name": "stderr",
     "output_type": "stream",
     "text": [
      "/Users/theresalocklear/anaconda3/lib/python3.7/site-packages/sklearn/linear_model/logistic.py:432: FutureWarning: Default solver will be changed to 'lbfgs' in 0.22. Specify a solver to silence this warning.\n",
      "  FutureWarning)\n"
     ]
    }
   ],
   "source": [
    "from sklearn.linear_model import LogisticRegression\n",
    "logmodel = LogisticRegression()\n",
    "logmodel.fit(X_train,y_train)\n",
    "predictions = logmodel.predict(X_test)"
   ]
  },
  {
   "cell_type": "code",
   "execution_count": 71,
   "metadata": {},
   "outputs": [
    {
     "name": "stdout",
     "output_type": "stream",
     "text": [
      "              precision    recall  f1-score   support\n",
      "\n",
      "           0       1.00      1.00      1.00      1385\n",
      "           1       1.00      0.99      0.99       460\n",
      "\n",
      "    accuracy                           1.00      1845\n",
      "   macro avg       1.00      1.00      1.00      1845\n",
      "weighted avg       1.00      1.00      1.00      1845\n",
      "\n"
     ]
    }
   ],
   "source": [
    "from sklearn.metrics import classification_report\n",
    "print(classification_report(y_test,predictions))\n"
   ]
  },
  {
   "cell_type": "markdown",
   "metadata": {},
   "source": [
    "###### Result\n",
    "\n",
    "Looks like there is predictive power in the clustering of the data. If given more attributes in the dataset, I would classify the data and leverage the kmeans cluster to evaluate the likelihood of bookings based on those attributes. "
   ]
  },
  {
   "cell_type": "code",
   "execution_count": null,
   "metadata": {},
   "outputs": [],
   "source": []
  }
 ],
 "metadata": {
  "kernelspec": {
   "display_name": "Python 3",
   "language": "python",
   "name": "python3"
  },
  "language_info": {
   "codemirror_mode": {
    "name": "ipython",
    "version": 3
   },
   "file_extension": ".py",
   "mimetype": "text/x-python",
   "name": "python",
   "nbconvert_exporter": "python",
   "pygments_lexer": "ipython3",
   "version": "3.7.3"
  },
  "widgets": {
   "application/vnd.jupyter.widget-state+json": {
    "state": {},
    "version_major": 2,
    "version_minor": 0
   }
  }
 },
 "nbformat": 4,
 "nbformat_minor": 2
}
